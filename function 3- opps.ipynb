{
 "cells": [
  {
   "cell_type": "code",
   "execution_count": 5,
   "metadata": {},
   "outputs": [],
   "source": [
    "def BMI():\n",
    "    BMI=int(input(\"Enter the BMI Index:\"))\n",
    "    if(BMI<18.5):\n",
    "        print(\"under weight\")\n",
    "        message=\"under weight\"\n",
    "    elif(BMI<24.9):\n",
    "        print(\"normal\")\n",
    "        message=\"normal\"\n",
    "    elif(BMI<29.9):\n",
    "        print(\"over weight\")\n",
    "        message=\"over weight\"\n",
    "    else:\n",
    "        print(\"very over weight\")\n",
    "        message=\"very over weight\"\n",
    "    return message\n"
   ]
  },
  {
   "cell_type": "code",
   "execution_count": 7,
   "metadata": {},
   "outputs": [
    {
     "name": "stdout",
     "output_type": "stream",
     "text": [
      "Enter the BMI Index:45\n",
      "very over weight\n"
     ]
    }
   ],
   "source": [
    "bmi=BMI()"
   ]
  },
  {
   "cell_type": "code",
   "execution_count": 38,
   "metadata": {},
   "outputs": [],
   "source": [
    "class multiplefunctions():\n",
    "    def BMI():\n",
    "        BMI=int(input(\"Enter the BMI Index:\"))\n",
    "        if(BMI<18.5):\n",
    "            print(\"under weight\")\n",
    "            message=\"under weight\"\n",
    "        elif(BMI<24.9):\n",
    "            print(\"normal\")\n",
    "            message=\"normal\"\n",
    "        elif(BMI<29.9):\n",
    "            print(\"over weight\")\n",
    "            message=\"over weight\"\n",
    "        else:\n",
    "            print(\"very over weight\")\n",
    "            message=\"very over weight\"\n",
    "        return message\n",
    "    \n",
    "    def oddEven():\n",
    "        num=int(input(\"enter the number:\"))\n",
    "        if((num%2)==1):\n",
    "            print(\"odd number\")\n",
    "            message=\"odd number\"\n",
    "        else:\n",
    "            print(\"even number\")\n",
    "            message=\"even number\"\n",
    "        return message\n",
    "    \n"
   ]
  },
  {
   "cell_type": "code",
   "execution_count": 39,
   "metadata": {},
   "outputs": [
    {
     "name": "stdout",
     "output_type": "stream",
     "text": [
      "enter the number:34\n",
      "even number\n"
     ]
    },
    {
     "data": {
      "text/plain": [
       "'even number'"
      ]
     },
     "execution_count": 39,
     "metadata": {},
     "output_type": "execute_result"
    }
   ],
   "source": [
    "multiplefunctions.oddEven()"
   ]
  },
  {
   "cell_type": "code",
   "execution_count": 40,
   "metadata": {},
   "outputs": [
    {
     "name": "stdout",
     "output_type": "stream",
     "text": [
      "Enter the BMI Index:12\n",
      "under weight\n"
     ]
    },
    {
     "data": {
      "text/plain": [
       "'under weight'"
      ]
     },
     "execution_count": 40,
     "metadata": {},
     "output_type": "execute_result"
    }
   ],
   "source": [
    "multiplefunctions.BMI()"
   ]
  },
  {
   "cell_type": "code",
   "execution_count": null,
   "metadata": {},
   "outputs": [],
   "source": []
  }
 ],
 "metadata": {
  "kernelspec": {
   "display_name": "Python 3",
   "language": "python",
   "name": "python3"
  },
  "language_info": {
   "codemirror_mode": {
    "name": "ipython",
    "version": 3
   },
   "file_extension": ".py",
   "mimetype": "text/x-python",
   "name": "python",
   "nbconvert_exporter": "python",
   "pygments_lexer": "ipython3",
   "version": "3.7.4"
  }
 },
 "nbformat": 4,
 "nbformat_minor": 2
}
