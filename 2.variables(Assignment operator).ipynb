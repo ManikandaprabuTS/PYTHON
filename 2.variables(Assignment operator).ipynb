{
 "cells": [
  {
   "cell_type": "code",
   "execution_count": 1,
   "metadata": {},
   "outputs": [
    {
     "name": "stdout",
     "output_type": "stream",
     "text": [
      "The addition of two numbers\n",
      "The Number1: 10\n",
      "The number2: 20\n",
      "The answer: 30\n"
     ]
    }
   ],
   "source": [
    "print(\"The addition of two numbers\")\n",
    "num1=10\n",
    "print(\"The Number1:\",num1)\n",
    "num2=20\n",
    "print(\"The number2:\",num2)\n",
    "print(\"The answer:\",num1+num2)"
   ]
  },
  {
   "cell_type": "code",
   "execution_count": 2,
   "metadata": {},
   "outputs": [
    {
     "name": "stdout",
     "output_type": "stream",
     "text": [
      "The subractions of two numbers\n",
      "The number1: 100\n",
      "The number2: 75\n",
      "The answer: 25\n"
     ]
    }
   ],
   "source": [
    "print(\"The subractions of two numbers\")\n",
    "num1=100\n",
    "print(\"The number1:\",num1)\n",
    "num2=75\n",
    "print(\"The number2:\",num2)\n",
    "print(\"The answer:\",num1-num2)"
   ]
  },
  {
   "cell_type": "code",
   "execution_count": 3,
   "metadata": {},
   "outputs": [
    {
     "name": "stdout",
     "output_type": "stream",
     "text": [
      "The multiplication of two  numbers\n",
      "The number1: 10\n",
      "The number2: 5\n",
      "The answer: 50\n"
     ]
    }
   ],
   "source": [
    "print(\"The multiplication of two  numbers\")\n",
    "num1=10\n",
    "print(\"The number1:\",num1)\n",
    "num2=5\n",
    "print(\"The number2:\",num2)\n",
    "print(\"The answer:\",num1*num2)"
   ]
  },
  {
   "cell_type": "code",
   "execution_count": 4,
   "metadata": {},
   "outputs": [
    {
     "name": "stdout",
     "output_type": "stream",
     "text": [
      "The division of two numbers\n",
      "The number1: 545\n",
      "The number: 345\n",
      "The answer: 1.5797101449275361\n"
     ]
    }
   ],
   "source": [
    "print(\"The division of two numbers\")\n",
    "num1=545\n",
    "print(\"The number1:\",num1)\n",
    "num2=345\n",
    "print(\"The number:\",num2)\n",
    "print(\"The answer:\",num1/num2)"
   ]
  },
  {
   "cell_type": "markdown",
   "metadata": {},
   "source": [
    "x=0.1\n",
    "y=0.2\n",
    "z=x+y"
   ]
  },
  {
   "cell_type": "code",
   "execution_count": 2,
   "metadata": {},
   "outputs": [
    {
     "name": "stdout",
     "output_type": "stream",
     "text": [
      "addition of two numbers\n",
      "the number1 0.1\n",
      "the number2 0.2\n",
      "tha answer 0.30000000000000004\n"
     ]
    }
   ],
   "source": [
    "print(\"addition of two numbers\")\n",
    "num1=0.1\n",
    "print(\"the number1\",num1)\n",
    "num2=0.2\n",
    "print(\"the number2\",num2)\n",
    "print(\"tha answer\",num1+num2)\n"
   ]
  },
  {
   "cell_type": "code",
   "execution_count": null,
   "metadata": {},
   "outputs": [],
   "source": []
  }
 ],
 "metadata": {
  "kernelspec": {
   "display_name": "Python 3",
   "language": "python",
   "name": "python3"
  },
  "language_info": {
   "codemirror_mode": {
    "name": "ipython",
    "version": 3
   },
   "file_extension": ".py",
   "mimetype": "text/x-python",
   "name": "python",
   "nbconvert_exporter": "python",
   "pygments_lexer": "ipython3",
   "version": "3.7.4"
  }
 },
 "nbformat": 4,
 "nbformat_minor": 2
}
