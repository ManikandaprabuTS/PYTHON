{
 "cells": [
  {
   "cell_type": "code",
   "execution_count": null,
   "metadata": {},
   "outputs": [],
   "source": [
    "def agecateogry():\n",
    "    if(age<18):\n",
    "        print(\"children\")\n",
    "        cate=\"children\"\n",
    "    elif(age<35):\n",
    "        print(\"adult\")\n",
    "        cate=\"adult\"\n",
    "    elif(age<59):\n",
    "        print(\"citizen\")\n",
    "        cate=\"citizen\"\n",
    "    else:\n",
    "        print(\"senior citizen\")\n",
    "        cate=\"senior citizen\"\n",
    "    return cate"
   ]
  },
  {
   "cell_type": "code",
   "execution_count": null,
   "metadata": {},
   "outputs": [],
   "source": [
    "def agecategoryNOR():\n",
    "    if(age<18):\n",
    "        print(\"children\")\n",
    "        cate=\"children\"\n",
    "    elif(age<35):\n",
    "        print(\"adult\")\n",
    "        cate=\"adult\"\n",
    "    elif(age<59):\n",
    "        print(\"citizon\")\n",
    "        cate=\"citizon\"\n",
    "    else:\n",
    "        print(\"senior citizen\")\n",
    "        cate=\"senior citizen\"\n",
    "    \n"
   ]
  },
  {
   "cell_type": "code",
   "execution_count": null,
   "metadata": {},
   "outputs": [],
   "source": [
    "age=int(input(\"enter the age:\"))\n",
    "agecate=agecategoryNOR()"
   ]
  },
  {
   "cell_type": "code",
   "execution_count": null,
   "metadata": {},
   "outputs": [],
   "source": [
    "print(agecate)"
   ]
  },
  {
   "cell_type": "code",
   "execution_count": null,
   "metadata": {},
   "outputs": [],
   "source": [
    "age=int(input(\"enter the age:\"))\n",
    "agecate=agecategory()"
   ]
  },
  {
   "cell_type": "code",
   "execution_count": null,
   "metadata": {},
   "outputs": [],
   "source": [
    "def BMI():\n",
    "    BMI=int(input(\"Enter the BMI Index:\"))\n",
    "    if(BMI<18.5):\n",
    "        print(\"under weight\")\n",
    "        message=\"under weight\"\n",
    "    elif(BMI<24.9):\n",
    "        print(\"normal\")\n",
    "        message=\"normal\"\n",
    "    elif(BMI<29.9):\n",
    "        print(\"over weight\")\n",
    "        message=\"over weight\"\n",
    "    else:\n",
    "        print(\"very over weight\")\n",
    "        message=\"very over weight\"\n",
    "    return message\n"
   ]
  },
  {
   "cell_type": "code",
   "execution_count": null,
   "metadata": {},
   "outputs": [],
   "source": [
    "bmi=BMI()"
   ]
  },
  {
   "cell_type": "code",
   "execution_count": null,
   "metadata": {},
   "outputs": [],
   "source": []
  }
 ],
 "metadata": {
  "kernelspec": {
   "display_name": "Python 3",
   "language": "python",
   "name": "python3"
  },
  "language_info": {
   "codemirror_mode": {
    "name": "ipython",
    "version": 3
   },
   "file_extension": ".py",
   "mimetype": "text/x-python",
   "name": "python",
   "nbconvert_exporter": "python",
   "pygments_lexer": "ipython3",
   "version": "3.7.4"
  }
 },
 "nbformat": 4,
 "nbformat_minor": 2
}
